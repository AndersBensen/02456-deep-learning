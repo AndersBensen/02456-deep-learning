{
 "cells": [
  {
   "cell_type": "markdown",
   "metadata": {},
   "source": [
    "# Notebook - Segmentation of car parts using UNet variants\n",
    "This notebook will show how we have trained our various models used in our rapport, it will also recreate the results from the rapport and poster. To make the notebook as easy-readable as possible we will not have all there required code in here, but it can be found in the various folders. It should be noted that none of our models were actually trained in this notebook, as we trained everything on DTU's High Performance Cluster (HPC) to speed up the process. "
   ]
  },
  {
   "cell_type": "code",
   "execution_count": 14,
   "metadata": {},
   "outputs": [],
   "source": [
    "import os\n",
    "os.environ['CUDA_VISIBLE_DEVICES'] = '0'\n",
    "import numpy as np\n",
    "import cv2\n",
    "from torch.utils.data import DataLoader\n",
    "from torch.utils.data import Dataset as BaseDataset\n",
    "import torch\n",
    "import numpy as np\n",
    "import segmentation_models_pytorch as smp\n",
    "from torchvision.transforms import *\n",
    "from torchmetrics.functional import iou, dice_score, accuracy"
   ]
  },
  {
   "cell_type": "markdown",
   "metadata": {},
   "source": [
    "# Training\n",
    "We will here show how we trained the various models to get our results showed in the poster/rapport. All of the models were trained with this same \"loop\", but the parameters such as which car data, grayscaling, unet version etc. changes.  "
   ]
  },
  {
   "cell_type": "code",
   "execution_count": 25,
   "metadata": {},
   "outputs": [],
   "source": [
    "from utils.dataloader.car_dataset import CarDataset\n",
    "from utils.background_rem.bg_manager import BgManager\n",
    "from utils.background_rem.bg_remover import init_bg_remover"
   ]
  },
  {
   "cell_type": "code",
   "execution_count": 26,
   "metadata": {},
   "outputs": [],
   "source": [
    "validation_path = \"E:/dtu/2sem/deeplearn/project/data_folder_2/validation/\"\n",
    "train_path = \"E:/dtu/2sem/deeplearn/project/data_folder_2/train/\"\n",
    "test_path = \"E:/dtu/2sem/deeplearn/project/data_folder_2/test/\""
   ]
  },
  {
   "cell_type": "code",
   "execution_count": 27,
   "metadata": {},
   "outputs": [],
   "source": [
    "transform = transforms.Compose([\n",
    "        RandomHorizontalFlip(p=0.5),\n",
    "        RandomPerspective(distortion_scale=0.3, p=0.4),\n",
    "        transforms.RandomApply(transforms=[\n",
    "            RandomResizedCrop(size=(256, 256), scale=(0.40, 1.0)),\n",
    "        ], p=0.4),\n",
    "        transforms.RandomApply(transforms=[\n",
    "            GaussianBlur(kernel_size=(5, 9), sigma=(0.1, 5)),\n",
    "        ], p=0.2),\n",
    "        transforms.RandomErasing(p=0.2), \n",
    "        transforms.RandomRotation(degrees=(-10, 10)), \n",
    "    ])"
   ]
  },
  {
   "cell_type": "code",
   "execution_count": 28,
   "metadata": {},
   "outputs": [
    {
     "ename": "NameError",
     "evalue": "name 'predictor' is not defined",
     "output_type": "error",
     "traceback": [
      "\u001b[1;31m---------------------------------------------------------------------------\u001b[0m",
      "\u001b[1;31mNameError\u001b[0m                                 Traceback (most recent call last)",
      "\u001b[1;32m<ipython-input-28-8df27e436f22>\u001b[0m in \u001b[0;36m<module>\u001b[1;34m\u001b[0m\n\u001b[0;32m      1\u001b[0m train_dataset = CarDataset(train_path, num_gan=0, num_deloitte_aug=0, num_opel=300, num_door=300, num_primary=8, \n\u001b[1;32m----> 2\u001b[1;33m                            bg_manager = BgManager(), predictor=predictor, augmentation=transform)\n\u001b[0m\u001b[0;32m      3\u001b[0m \u001b[0mvalidation_dataset\u001b[0m \u001b[1;33m=\u001b[0m \u001b[0mCarDataset\u001b[0m\u001b[1;33m(\u001b[0m\u001b[0mvalidation_path\u001b[0m\u001b[1;33m,\u001b[0m \u001b[0mnum_gan\u001b[0m\u001b[1;33m=\u001b[0m\u001b[1;36m0\u001b[0m\u001b[1;33m,\u001b[0m \u001b[0mnum_deloitte_aug\u001b[0m\u001b[1;33m=\u001b[0m\u001b[1;36m0\u001b[0m\u001b[1;33m,\u001b[0m \u001b[0mnum_opel\u001b[0m\u001b[1;33m=\u001b[0m\u001b[1;36m0\u001b[0m\u001b[1;33m,\u001b[0m \u001b[0mnum_door\u001b[0m\u001b[1;33m=\u001b[0m\u001b[1;36m0\u001b[0m\u001b[1;33m,\u001b[0m \u001b[0mnum_primary\u001b[0m\u001b[1;33m=\u001b[0m\u001b[1;36m1\u001b[0m\u001b[1;33m)\u001b[0m\u001b[1;33m\u001b[0m\u001b[1;33m\u001b[0m\u001b[0m\n\u001b[0;32m      4\u001b[0m \u001b[0mtrain_loader\u001b[0m \u001b[1;33m=\u001b[0m \u001b[0mDataLoader\u001b[0m\u001b[1;33m(\u001b[0m\u001b[0mtrain_dataset\u001b[0m\u001b[1;33m,\u001b[0m \u001b[0mbatch_size\u001b[0m\u001b[1;33m=\u001b[0m\u001b[1;36m8\u001b[0m\u001b[1;33m,\u001b[0m \u001b[0mshuffle\u001b[0m\u001b[1;33m=\u001b[0m\u001b[1;32mTrue\u001b[0m\u001b[1;33m,\u001b[0m \u001b[0mnum_workers\u001b[0m\u001b[1;33m=\u001b[0m\u001b[1;36m0\u001b[0m\u001b[1;33m,\u001b[0m \u001b[0mdrop_last\u001b[0m\u001b[1;33m=\u001b[0m\u001b[1;32mTrue\u001b[0m\u001b[1;33m)\u001b[0m\u001b[1;33m\u001b[0m\u001b[1;33m\u001b[0m\u001b[0m\n\u001b[0;32m      5\u001b[0m \u001b[0mvalid_loader\u001b[0m \u001b[1;33m=\u001b[0m \u001b[0mDataLoader\u001b[0m\u001b[1;33m(\u001b[0m\u001b[0mvalidation_dataset\u001b[0m\u001b[1;33m,\u001b[0m \u001b[0mbatch_size\u001b[0m\u001b[1;33m=\u001b[0m\u001b[1;36m1\u001b[0m\u001b[1;33m,\u001b[0m \u001b[0mshuffle\u001b[0m\u001b[1;33m=\u001b[0m\u001b[1;32mFalse\u001b[0m\u001b[1;33m,\u001b[0m \u001b[0mnum_workers\u001b[0m\u001b[1;33m=\u001b[0m\u001b[1;36m0\u001b[0m\u001b[1;33m)\u001b[0m\u001b[1;33m\u001b[0m\u001b[1;33m\u001b[0m\u001b[0m\n",
      "\u001b[1;31mNameError\u001b[0m: name 'predictor' is not defined"
     ]
    }
   ],
   "source": [
    "train_dataset = CarDataset(train_path, num_gan=0, num_deloitte_aug=0, num_opel=300, num_door=300, num_primary=8, \n",
    "                           bg_manager = BgManager(), predictor=predictor, augmentation=transform)\n",
    "validation_dataset = CarDataset(validation_path, num_gan=0, num_deloitte_aug=0, num_opel=0, num_door=0, num_primary=1)\n",
    "train_loader = DataLoader(train_dataset, batch_size=8, shuffle=True, num_workers=0, drop_last=True)\n",
    "valid_loader = DataLoader(validation_dataset, batch_size=1, shuffle=False, num_workers=0)"
   ]
  },
  {
   "cell_type": "code",
   "execution_count": null,
   "metadata": {},
   "outputs": [],
   "source": [
    "train_dataset = CarDataset(train_path, num_gan=0, num_deloitte_aug=0, num_opel=300, num_door=300, num_primary=8, \n",
    "                           augmentation=transform, grayscale=True)\n",
    "validation_dataset = CarDataset(validation_path, num_gan=0, num_deloitte_aug=0, num_opel=0, num_door=0, num_primary=1, \n",
    "                                grayscale=True)"
   ]
  },
  {
   "cell_type": "code",
   "execution_count": null,
   "metadata": {},
   "outputs": [],
   "source": [
    "train_dataset = CarDataset(train_path, num_gan=0, num_deloitte_aug=0, num_opel=300, num_door=300, num_primary=8, \n",
    "                           augmentation=transform)\n",
    "validation_dataset = CarDataset(validation_path, num_gan=0, num_deloitte_aug=0, num_opel=0, num_door=0, num_primary=1)"
   ]
  },
  {
   "cell_type": "markdown",
   "metadata": {},
   "source": [
    "# Recreating the results from the poster/rapport\n",
    "Everytime we trained a model on the HPC we saved the best model (the one with the lowest validation loss during training). We then took these saved models, ran them on the test set and looked at the predicted pictures. In this section we recreate the performance on the test set on the various models.  "
   ]
  },
  {
   "cell_type": "code",
   "execution_count": null,
   "metadata": {},
   "outputs": [],
   "source": [
    "def calc_metrics(model):\n",
    "    "
   ]
  },
  {
   "cell_type": "code",
   "execution_count": 29,
   "metadata": {},
   "outputs": [],
   "source": [
    "model = smp.UnetPlusPlus(\n",
    "    encoder_name='timm-resnest200e',\n",
    "    encoder_weights='imagenet',\n",
    "    classes=9,\n",
    "    activation='softmax2d',\n",
    "    in_channels=3\n",
    ")"
   ]
  },
  {
   "cell_type": "code",
   "execution_count": 30,
   "metadata": {},
   "outputs": [],
   "source": [
    "# Trained with this data:\n",
    "train_dataset = CarDataset(train_path, num_gan=0, num_deloitte_aug=0, num_opel=300, num_door=300, num_primary=8, \n",
    "                           augmentation=transform, grayscale=True)\n",
    "validation_dataset = CarDataset(validation_path, num_gan=0, num_deloitte_aug=0, num_opel=0, num_door=0, num_primary=1, \n",
    "                                grayscale=True)\n",
    "# The actual model: \n",
    "model = smp.UnetPlusPlus(\n",
    "    encoder_name='timm-resnest200e',\n",
    "    encoder_weights='imagenet',\n",
    "    classes=9,\n",
    "    activation='softmax2d',\n",
    "    in_channels=1\n",
    ")"
   ]
  },
  {
   "cell_type": "code",
   "execution_count": null,
   "metadata": {},
   "outputs": [],
   "source": [
    "model = smp.UnetPlusPlus(\n",
    "    encoder_name='timm-resnest200e',\n",
    "    encoder_weights='imagenet',\n",
    "    classes=9,\n",
    "    activation='softmax2d',\n",
    "    in_channels=3\n",
    ")"
   ]
  },
  {
   "cell_type": "code",
   "execution_count": null,
   "metadata": {},
   "outputs": [],
   "source": []
  }
 ],
 "metadata": {
  "kernelspec": {
   "display_name": "Python 3",
   "language": "python",
   "name": "python3"
  },
  "language_info": {
   "codemirror_mode": {
    "name": "ipython",
    "version": 3
   },
   "file_extension": ".py",
   "mimetype": "text/x-python",
   "name": "python",
   "nbconvert_exporter": "python",
   "pygments_lexer": "ipython3",
   "version": "3.8.5"
  }
 },
 "nbformat": 4,
 "nbformat_minor": 4
}
